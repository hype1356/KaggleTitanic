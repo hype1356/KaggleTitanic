{
 "cells": [
  {
   "cell_type": "code",
   "execution_count": 1,
   "metadata": {},
   "outputs": [],
   "source": [
    "# imports\n",
    "import xgboost as xgb\n",
    "from sklearn.model_selection import train_test_split\n",
    "import pandas as pd"
   ]
  },
  {
   "cell_type": "code",
   "execution_count": 2,
   "metadata": {},
   "outputs": [],
   "source": [
    "# read and format training data\n",
    "x_training_data = pd.read_csv('data/train.csv')\n",
    "y_training_data = x_training_data['Survived']\n",
    "x_training_data = x_training_data.drop(columns=['Survived', 'Name', 'Ticket', 'Cabin', 'PassengerId'])\n",
    "\n",
    "x_training_data['Sex'] = x_training_data['Sex'].map({'male': 0, 'female': 1})\n",
    "x_training_data['Embarked'] = x_training_data['Embarked'].map({'S': 0, 'C': 1, 'Q': 2})\n",
    "\n",
    "xgtrain = xgb.DMatrix(x_training_data, y_training_data)\n",
    "\n",
    "# read and format testing data\n",
    "\n",
    "test_data = pd.read_csv('data/test.csv')\n",
    "test_data = test_data.drop(columns=['Name', 'Ticket', 'Cabin', 'PassengerId'])\n",
    "\n",
    "test_data['Sex'] = test_data['Sex'].map({'male': 0, 'female': 1})\n",
    "test_data['Embarked'] = test_data['Embarked'].map({'S': 0, 'C': 1, 'Q': 2})\n",
    "\n",
    "xgtest = xgb.DMatrix(test_data)"
   ]
  },
  {
   "cell_type": "code",
   "execution_count": 16,
   "metadata": {},
   "outputs": [],
   "source": [
    "# create and train model\n",
    "params = {\n",
    "    'objective': 'binary:logistic',\n",
    "    'max_depth': 3,\n",
    "    'learning_rate': 0.1,\n",
    "    'eval_metric': 'error'\n",
    "}\n",
    "\n",
    "num_round = 1000\n",
    "\n",
    "model = xgb.train(params, xgtrain, num_round)"
   ]
  },
  {
   "cell_type": "code",
   "execution_count": 18,
   "metadata": {},
   "outputs": [],
   "source": [
    "# predict\n",
    "predictions = model.predict(xgtest)\n",
    "predictions = [1 if x > 0.5 else 0 for x in predictions]\n",
    "\n",
    "# write to file\n",
    "output = pd.read_csv('data/test.csv')\n",
    "output = output[['PassengerId']]\n",
    "output['Survived'] = predictions\n",
    "output.to_csv('output.csv', index=False)"
   ]
  }
 ],
 "metadata": {
  "kernelspec": {
   "display_name": "Python 3",
   "language": "python",
   "name": "python3"
  },
  "language_info": {
   "codemirror_mode": {
    "name": "ipython",
    "version": 3
   },
   "file_extension": ".py",
   "mimetype": "text/x-python",
   "name": "python",
   "nbconvert_exporter": "python",
   "pygments_lexer": "ipython3",
   "version": "3.11.2"
  }
 },
 "nbformat": 4,
 "nbformat_minor": 2
}
